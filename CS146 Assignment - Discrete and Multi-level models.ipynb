{
 "cells": [
  {
   "cell_type": "markdown",
   "id": "15ff9d02",
   "metadata": {},
   "source": [
    "# CS146 Assignment - Discrete and Multi-level Models"
   ]
  },
  {
   "cell_type": "markdown",
   "id": "ac40d0df",
   "metadata": {},
   "source": [
    "## Overview"
   ]
  },
  {
   "cell_type": "markdown",
   "id": "3cbdbeec",
   "metadata": {},
   "source": [
    "In this paper, we have a dataset of the number of kelps plants in a 100 20x20m grid squares. However, there are some squares we have been missing data. I am going to train 2 statistical models with 2 different layers of assumptions behind to predict the values of kelp counts in these missing cells given data we have in other 20x20m grid squares. "
   ]
  },
  {
   "cell_type": "markdown",
   "id": "61f6e123",
   "metadata": {},
   "source": [
    "First, let's take a look at the big picture! How the data we have look like and how our cells with missing data are shown will help us understand better the problem we are trying to solve"
   ]
  },
  {
   "cell_type": "code",
   "execution_count": 1,
   "id": "794ccffc",
   "metadata": {},
   "outputs": [
    {
     "data": {
      "image/png": "[encoded data removed]",
      "text/plain": [
       "<Figure size 936x216 with 2 Axes>"
      ]
     },
     "metadata": {
      "needs_background": "light"
     },
     "output_type": "display_data"
    }
   ],
   "source": [
    "import matplotlib.pyplot as plt\n",
    "import numpy as np\n",
    "from numpy import nan\n",
    "\n",
    "plt.rcParams.update({'font.size': 12})\n",
    "\n",
    "grid_count_x = 20  # number of grid cells in the x and y directions\n",
    "grid_count_y = 5\n",
    "grid_cell_width = 20  # number of meters per grid cell side\n",
    "area_per_cell = grid_cell_width ** 2  # each grid cell has an area of (20 m)² = 400 m²\n",
    "\n",
    "grid_x = (np.arange(grid_count_x) + 0.5) * grid_cell_width\n",
    "grid_y = (np.arange(grid_count_y) + 0.5) * grid_cell_width\n",
    "\n",
    "data = np.array([\n",
    "    [101,  92, nan, 550, 450, 318, 408, 465, 232, 123,  39,  41, 123, 226, 198, 307, nan, 454, 191,  63],\n",
    "    [ 43,  86, 334, 649, 540, 231, nan, 529, 179, 193,  74,  80,  94, 113, 138, 155, 331, 405, 372, 191],\n",
    "    [ 51, 110, 314, nan, nan, 215, 205, nan, nan, 221,  67, 203, 120, 125, 158, 129, 149, 156, 245, 304],\n",
    "    [nan,  74,  66, 119, 184, 186, 115,  71,  89, 151, 145, 255, 127, nan, 199,  92,  74,  49, 116, 153],\n",
    "    [ 87,  36,  37,  70, 116, 207, 201, 235, 199,  84, 117, 118, 121, 144, 146,  69,  87,  54,  44, 101]])\n",
    "\n",
    "plt.figure(figsize=(13, 3))\n",
    "plt.title('counts in each grid cell (white ⇒ missing data)')\n",
    "plt.xlabel('x-coordinate of grid [m]')\n",
    "plt.ylabel('y-coordinate of grid [m]')\n",
    "plt.imshow(data, origin='lower')\n",
    "plt.xticks(np.arange(data.shape[1]), np.array(grid_x, dtype=int))\n",
    "plt.yticks(np.arange(data.shape[0]), np.array(grid_y, dtype=int))\n",
    "plt.colorbar()\n",
    "plt.show()"
   ]
  },
  {
   "cell_type": "markdown",
   "id": "22b0f5f4",
   "metadata": {},
   "source": [
    "Overall, we have 91 data points and 9 cells with missing data. Our task now is to use 91 data points to estimate the values in the remaining 9 grid squares."
   ]
  },
  {
   "cell_type": "markdown",
   "id": "51a048da",
   "metadata": {},
   "source": [
    "## Strategy"
   ]
  },
  {
   "cell_type": "markdown",
   "id": "496121d0",
   "metadata": {},
   "source": [
    "Because all data we have and the data we want to estimate all refer to the number of kelp plants in a 20x20m grid square near a coastal area, we can construct a statistical model, input our prior information to the model, let the model learn from the data we have, and then ask the model to predict missing data after understanding the number of kelp plants in general. Because the number of kelp plants is a count, discrete variable which has no limits (we do not have knowledge about an upper bound of kelp counts in a grid square), Poisson distribution seems to be appropriate here! We have to estimate the rate of our Poisson distribution, train the model with data we have and the rate in our prior belief, and predict the data about other missing cells with our posterior belief after the model learns from data."
   ]
  },
  {
   "cell_type": "markdown",
   "id": "4c571594",
   "metadata": {},
   "source": [
    "However, we will conduct 2 different approaches in our model construction. These two approaches make two different assumptions, which affects our predictions later.\n",
    "\n",
    "1. Complete pooling: This approach assumes that all kelp plants in all 20x20m grid squares come from the same distribution. By the same distribution, we mean that all kelp plants are generated from only 1 distribution with its own parameter. Therefore, in this approach, we just have to construct one Poisson distribution with the rate defined as our prior belief about kelp plants. Then after the model learns from data, we have our posterior distribution which helps us predict missing data.\n",
    "\n",
    "2. Partial pooling. This approach states a different assumption that the number of kelp plants in every single 20x20m grid square follows a different distribution. In other words, for every grid, we have a separate Poisson distribution over the number of kelp plants in that grid only. However, it does not mean all grids have nothing to do with each other. Rather, the data of all grid squares do inform about the distribution in a single grid square. To elaborate, even though kelp plant counts in each square have a different distribution, our model constantly updates its belief with existing data. This model is more complicated because it maintains the consistency between data in the same context, yet still allows for variations in individual units."
   ]
  },
  {
   "cell_type": "code",
   "execution_count": 2,
   "id": "4642d112",
   "metadata": {},
   "outputs": [
    {
     "name": "stderr",
     "output_type": "stream",
     "text": [
      "/Users/ngttam3010/opt/anaconda3/lib/python3.8/site-packages/pandas/core/computation/expressions.py:21: UserWarning: Pandas requires version '2.7.3' or newer of 'numexpr' (version '2.7.1' currently installed).\n",
      "  from pandas.core.computation.check import NUMEXPR_INSTALLED\n",
      "/Users/ngttam3010/opt/anaconda3/lib/python3.8/site-packages/pkg_resources/__init__.py:123: PkgResourcesDeprecationWarning: 4.0.0-unsupported is an invalid version and will not be supported in a future release\n",
      "  warnings.warn(\n"
     ]
    }
   ],
   "source": [
    "# import necessary libraries\n",
    "\n",
    "import matplotlib.pyplot as plt\n",
    "import numpy as np\n",
    "from numpy import nan\n",
    "import pymc as pm\n",
    "import pandas as pd\n",
    "import arviz as az\n",
    "import random"
   ]
  },
  {
   "cell_type": "code",
   "execution_count": 3,
   "id": "052f76c3",
   "metadata": {},
   "outputs": [
    {
     "data": {
      "text/html": [
       "<div>\n",
       "<style scoped>\n",
       "    .dataframe tbody tr th:only-of-type {\n",
       "        vertical-align: middle;\n",
       "    }\n",
       "\n",
       "    .dataframe tbody tr th {\n",
       "        vertical-align: top;\n",
       "    }\n",
       "\n",
       "    .dataframe thead th {\n",
       "        text-align: right;\n",
       "    }\n",
       "</style>\n",
       "<table border=\"1\" class=\"dataframe\">\n",
       "  <thead>\n",
       "    <tr style=\"text-align: right;\">\n",
       "      <th></th>\n",
       "      <th>cell</th>\n",
       "      <th>data</th>\n",
       "    </tr>\n",
       "  </thead>\n",
       "  <tbody>\n",
       "    <tr>\n",
       "      <th>0</th>\n",
       "      <td>0</td>\n",
       "      <td>101.0</td>\n",
       "    </tr>\n",
       "    <tr>\n",
       "      <th>1</th>\n",
       "      <td>1</td>\n",
       "      <td>92.0</td>\n",
       "    </tr>\n",
       "    <tr>\n",
       "      <th>2</th>\n",
       "      <td>2</td>\n",
       "      <td>550.0</td>\n",
       "    </tr>\n",
       "    <tr>\n",
       "      <th>3</th>\n",
       "      <td>3</td>\n",
       "      <td>450.0</td>\n",
       "    </tr>\n",
       "    <tr>\n",
       "      <th>4</th>\n",
       "      <td>4</td>\n",
       "      <td>318.0</td>\n",
       "    </tr>\n",
       "  </tbody>\n",
       "</table>\n",
       "</div>"
      ],
      "text/plain": [
       "   cell   data\n",
       "0     0  101.0\n",
       "1     1   92.0\n",
       "2     2  550.0\n",
       "3     3  450.0\n",
       "4     4  318.0"
      ]
     },
     "execution_count": 3,
     "metadata": {},
     "output_type": "execute_result"
    }
   ],
   "source": [
    "# prepare dataset\n",
    "\n",
    "data = np.array([\n",
    "    [101,  92, nan, 550, 450, 318, 408, 465, 232, 123,  39,  41, 123, 226, 198, 307, nan, 454, 191,  63],\n",
    "    [ 43,  86, 334, 649, 540, 231, nan, 529, 179, 193,  74,  80,  94, 113, 138, 155, 331, 405, 372, 191],\n",
    "    [ 51, 110, 314, nan, nan, 215, 205, nan, nan, 221,  67, 203, 120, 125, 158, 129, 149, 156, 245, 304],\n",
    "    [nan,  74,  66, 119, 184, 186, 115,  71,  89, 151, 145, 255, 127, nan, 199,  92,  74,  49, 116, 153],\n",
    "    [ 87,  36,  37,  70, 116, 207, 201, 235, 199,  84, 117, 118, 121, 144, 146,  69,  87,  54,  44, 101]])\n",
    "\n",
    "# preprocess the data to input to the model \n",
    "filtered_data = data[np.logical_not(np.isnan(data))]\n",
    "\n",
    "dataset = pd.DataFrame(data = filtered_data, columns = [\"data\"])\n",
    "# for later use in the model - partial pooling\n",
    "dataset.insert(0, 'cell', np.arange(dataset.shape[0]))\n",
    "dataset.head()"
   ]
  },
  {
   "cell_type": "markdown",
   "id": "1b0b829b",
   "metadata": {},
   "source": [
    "## Complete Pooling"
   ]
  },
  {
   "cell_type": "markdown",
   "id": "f67a2a02",
   "metadata": {},
   "source": [
    "### Prior "
   ]
  },
  {
   "cell_type": "markdown",
   "id": "7f51306c",
   "metadata": {},
   "source": [
    "As stated below, we need to define our prior belief about the parameter in our distribution. We are given that there should be 0 to 2 kelp plants in every square meter. Therefore, our belief for each 20x20m square grid will be 0 to 800 kelp plants. To choose a distribution over the rate, I am mainly contemplating between Normal and Gamma distribution. While Gamma distribution is appropriate for the rate in a Poisson distribution because it ensures that values are positive, it spends so much probability density to the left (which means we highly believe that the number of kelp plants is closer to 0). Meanwhile, we just know the range of our possible number of kelp plants, not necessarily where is more likely. On the other hand, Normal distribution can make more sense when we can move the mean to the region between 0 and 800 and the distribution can cover all of our possible values with reasonable probability density. However, there will still be light weight over negative values which will contradict our belief that the count of kelp plant should always be non-negative. For that reason, I will just use both distributions to experiment. I mainly use prior-predictive distribution (which means how data look like given that prior parameter) to ensure with myself that the model with prior construction is reasonable and ready to move forward. This also helps me with parameter tuning - to find the value range or parameter value for the unknown rate in our Poisson distribution."
   ]
  },
  {
   "cell_type": "code",
   "execution_count": 4,
   "id": "3a75b0a5",
   "metadata": {},
   "outputs": [
    {
     "name": "stderr",
     "output_type": "stream",
     "text": [
      "Auto-assigning NUTS sampler...\n",
      "Initializing NUTS using jitter+adapt_diag...\n",
      "Multiprocess sampling (4 chains in 4 jobs)\n",
      "NUTS: [lam]\n"
     ]
    },
    {
     "data": {
      "text/html": [
       "\n",
       "<style>\n",
       "    /* Turns off some styling */\n",
       "    progress {\n",
       "        /* gets rid of default border in Firefox and Opera. */\n",
       "        border: none;\n",
       "        /* Needs to be in here for Safari polyfill so background images work as expected. */\n",
       "        background-size: auto;\n",
       "    }\n",
       "    progress:not([value]), progress:not([value])::-webkit-progress-bar {\n",
       "        background: repeating-linear-gradient(45deg, #7e7e7e, #7e7e7e 10px, #5c5c5c 10px, #5c5c5c 20px);\n",
       "    }\n",
       "    .progress-bar-interrupted, .progress-bar-interrupted::-webkit-progress-bar {\n",
       "        background: #F44336;\n",
       "    }\n",
       "</style>\n"
      ],
      "text/plain": [
       "<IPython.core.display.HTML object>"
      ]
     },
     "metadata": {},
     "output_type": "display_data"
    },
    {
     "data": {
      "text/html": [
       "\n",
       "    <div>\n",
       "      <progress value='20000' class='' max='20000' style='width:300px; height:20px; vertical-align: middle;'></progress>\n",
       "      100.00% [20000/20000 00:04&lt;00:00 Sampling 4 chains, 0 divergences]\n",
       "    </div>\n",
       "    "
      ],
      "text/plain": [
       "<IPython.core.display.HTML object>"
      ]
     },
     "metadata": {},
     "output_type": "display_data"
    },
    {
     "name": "stderr",
     "output_type": "stream",
     "text": [
      "Sampling 4 chains for 3_000 tune and 2_000 draw iterations (12_000 + 8_000 draws total) took 35 seconds.\n"
     ]
    },
    {
     "data": {
      "image/png": "[encoded data removed]",
      "text/plain": [
       "<Figure size 432x288 with 1 Axes>"
      ]
     },
     "metadata": {
      "needs_background": "light"
     },
     "output_type": "display_data"
    }
   ],
   "source": [
    "# Model 1 - Complete Pooling - Normal distribution\n",
    "\n",
    "with pm.Model() as model_complete_normal:\n",
    "    # i experiment multiple times to tune parameter\n",
    "    lam = pm.Normal('lam', np.log(350), 0.2)\n",
    "    # link function - ensure non-negative values\n",
    "    counts = pm.Poisson('counts', pm.math.exp(lam), observed=dataset.data)\n",
    "    trace_complete_normal = pm.sample(2000, tune=3000)\n",
    "with model_complete_normal:\n",
    "    samples_complete_normal = pm.sample_prior_predictive(10000)\n",
    "plt.hist(samples_complete_normal.prior_predictive.counts.values.flatten(), density = True)\n",
    "plt.title(\"Prior predictive distribution with our prior Normal distribution\")\n",
    "plt.xlabel(\"Kelp plant counts (Should be in the range 0 - 800)\")\n",
    "plt.ylabel(\"Probability density\")\n",
    "plt.show()"
   ]
  },
  {
   "cell_type": "markdown",
   "id": "07439d97",
   "metadata": {},
   "source": [
    "From the prior-predictive distribution above, we can say that our model works as expected. Given the prior parameter, our kelp counts generated from the prior distribution will only stay within the range between 0 and 800."
   ]
  },
  {
   "cell_type": "code",
   "execution_count": 5,
   "id": "59666464",
   "metadata": {},
   "outputs": [
    {
     "data": {
      "text/html": [
       "<div>\n",
       "<style scoped>\n",
       "    .dataframe tbody tr th:only-of-type {\n",
       "        vertical-align: middle;\n",
       "    }\n",
       "\n",
       "    .dataframe tbody tr th {\n",
       "        vertical-align: top;\n",
       "    }\n",
       "\n",
       "    .dataframe thead th {\n",
       "        text-align: right;\n",
       "    }\n",
       "</style>\n",
       "<table border=\"1\" class=\"dataframe\">\n",
       "  <thead>\n",
       "    <tr style=\"text-align: right;\">\n",
       "      <th></th>\n",
       "      <th>mean</th>\n",
       "      <th>sd</th>\n",
       "      <th>hdi_3%</th>\n",
       "      <th>hdi_97%</th>\n",
       "      <th>mcse_mean</th>\n",
       "      <th>mcse_sd</th>\n",
       "      <th>ess_bulk</th>\n",
       "      <th>ess_tail</th>\n",
       "      <th>r_hat</th>\n",
       "    </tr>\n",
       "  </thead>\n",
       "  <tbody>\n",
       "    <tr>\n",
       "      <th>lam</th>\n",
       "      <td>5.197</td>\n",
       "      <td>0.008</td>\n",
       "      <td>5.181</td>\n",
       "      <td>5.211</td>\n",
       "      <td>0.0</td>\n",
       "      <td>0.0</td>\n",
       "      <td>3412.0</td>\n",
       "      <td>5890.0</td>\n",
       "      <td>1.0</td>\n",
       "    </tr>\n",
       "  </tbody>\n",
       "</table>\n",
       "</div>"
      ],
      "text/plain": [
       "      mean     sd  hdi_3%  hdi_97%  mcse_mean  mcse_sd  ess_bulk  ess_tail  \\\n",
       "lam  5.197  0.008   5.181    5.211        0.0      0.0    3412.0    5890.0   \n",
       "\n",
       "     r_hat  \n",
       "lam    1.0  "
      ]
     },
     "execution_count": 5,
     "metadata": {},
     "output_type": "execute_result"
    }
   ],
   "source": [
    "az.summary(trace_complete_normal)"
   ]
  },
  {
   "cell_type": "markdown",
   "id": "8eb66d68",
   "metadata": {},
   "source": [
    "We also use diagnosis statistic to verify that our sampler is working well. With large ESS and R_hat = 1.0, we can be assured that things are fine."
   ]
  },
  {
   "cell_type": "code",
   "execution_count": 6,
   "id": "608dc0e7",
   "metadata": {},
   "outputs": [
    {
     "name": "stderr",
     "output_type": "stream",
     "text": [
      "Auto-assigning NUTS sampler...\n",
      "Initializing NUTS using jitter+adapt_diag...\n",
      "Multiprocess sampling (4 chains in 4 jobs)\n",
      "NUTS: [lam]\n"
     ]
    },
    {
     "data": {
      "text/html": [
       "\n",
       "<style>\n",
       "    /* Turns off some styling */\n",
       "    progress {\n",
       "        /* gets rid of default border in Firefox and Opera. */\n",
       "        border: none;\n",
       "        /* Needs to be in here for Safari polyfill so background images work as expected. */\n",
       "        background-size: auto;\n",
       "    }\n",
       "    progress:not([value]), progress:not([value])::-webkit-progress-bar {\n",
       "        background: repeating-linear-gradient(45deg, #7e7e7e, #7e7e7e 10px, #5c5c5c 10px, #5c5c5c 20px);\n",
       "    }\n",
       "    .progress-bar-interrupted, .progress-bar-interrupted::-webkit-progress-bar {\n",
       "        background: #F44336;\n",
       "    }\n",
       "</style>\n"
      ],
      "text/plain": [
       "<IPython.core.display.HTML object>"
      ]
     },
     "metadata": {},
     "output_type": "display_data"
    },
    {
     "data": {
      "text/html": [
       "\n",
       "    <div>\n",
       "      <progress value='20000' class='' max='20000' style='width:300px; height:20px; vertical-align: middle;'></progress>\n",
       "      100.00% [20000/20000 00:04&lt;00:00 Sampling 4 chains, 0 divergences]\n",
       "    </div>\n",
       "    "
      ],
      "text/plain": [
       "<IPython.core.display.HTML object>"
      ]
     },
     "metadata": {},
     "output_type": "display_data"
    },
    {
     "name": "stderr",
     "output_type": "stream",
     "text": [
      "Sampling 4 chains for 3_000 tune and 2_000 draw iterations (12_000 + 8_000 draws total) took 35 seconds.\n"
     ]
    },
    {
     "data": {
      "image/png": "[encoded data removed]",
      "text/plain": [
       "<Figure size 432x288 with 1 Axes>"
      ]
     },
     "metadata": {
      "needs_background": "light"
     },
     "output_type": "display_data"
    }
   ],
   "source": [
    "# Model 2 - Complete Pooling - Gamma distribution\n",
    "with pm.Model() as model_complete_gamma:\n",
    "    # i use alpha = 35 to pull the right tail distribution farther to 0 and \n",
    "    # balance with beta = 10 to ensure it does not go over 800 upper limit\n",
    "    lam = pm.Gamma('lam', 35, 10)\n",
    "    counts = pm.Poisson('counts', pm.math.exp(lam), observed=dataset.data)\n",
    "    trace_complete_gamma = pm.sample(2000, tune=3000)\n",
    "with model_complete_gamma:\n",
    "    samples_complete_gamma = pm.sample_prior_predictive(10000)\n",
    "plt.hist(samples_complete_gamma.prior_predictive.counts.values.flatten(), density = True)\n",
    "plt.title(\"Prior predictive distribution with our prior Gamma distribution\")\n",
    "plt.xlabel(\"Kelp plant counts (Should be in the range 0 - 800)\")\n",
    "plt.ylabel(\"Probability density\")\n",
    "plt.show()"
   ]
  },
  {
   "cell_type": "code",
   "execution_count": 7,
   "id": "0c59c8ba",
   "metadata": {},
   "outputs": [
    {
     "data": {
      "text/html": [
       "<div>\n",
       "<style scoped>\n",
       "    .dataframe tbody tr th:only-of-type {\n",
       "        vertical-align: middle;\n",
       "    }\n",
       "\n",
       "    .dataframe tbody tr th {\n",
       "        vertical-align: top;\n",
       "    }\n",
       "\n",
       "    .dataframe thead th {\n",
       "        text-align: right;\n",
       "    }\n",
       "</style>\n",
       "<table border=\"1\" class=\"dataframe\">\n",
       "  <thead>\n",
       "    <tr style=\"text-align: right;\">\n",
       "      <th></th>\n",
       "      <th>mean</th>\n",
       "      <th>sd</th>\n",
       "      <th>hdi_3%</th>\n",
       "      <th>hdi_97%</th>\n",
       "      <th>mcse_mean</th>\n",
       "      <th>mcse_sd</th>\n",
       "      <th>ess_bulk</th>\n",
       "      <th>ess_tail</th>\n",
       "      <th>r_hat</th>\n",
       "    </tr>\n",
       "  </thead>\n",
       "  <tbody>\n",
       "    <tr>\n",
       "      <th>lam</th>\n",
       "      <td>5.196</td>\n",
       "      <td>0.008</td>\n",
       "      <td>5.182</td>\n",
       "      <td>5.21</td>\n",
       "      <td>0.0</td>\n",
       "      <td>0.0</td>\n",
       "      <td>3528.0</td>\n",
       "      <td>5730.0</td>\n",
       "      <td>1.0</td>\n",
       "    </tr>\n",
       "  </tbody>\n",
       "</table>\n",
       "</div>"
      ],
      "text/plain": [
       "      mean     sd  hdi_3%  hdi_97%  mcse_mean  mcse_sd  ess_bulk  ess_tail  \\\n",
       "lam  5.196  0.008   5.182     5.21        0.0      0.0    3528.0    5730.0   \n",
       "\n",
       "     r_hat  \n",
       "lam    1.0  "
      ]
     },
     "execution_count": 7,
     "metadata": {},
     "output_type": "execute_result"
    }
   ],
   "source": [
    "az.summary(trace_complete_gamma)"
   ]
  },
  {
   "cell_type": "markdown",
   "id": "b3ba1a1f",
   "metadata": {},
   "source": [
    "Our model here is also working fine! Diagnosis statistic shows positive results. Most importantly, our prior predictive distribution matches our prior belief. Note that a small change in alpha or beta in the prior definition of our unknown can result in a large increase in the right tail of our prior predictive distribution. Therefore, I chose to keep it the way I can make sure it cannot go over 800 upper limit. Also, because the model involves a certain amount of randomness, so different runs can produce slightly different results."
   ]
  },
  {
   "cell_type": "markdown",
   "id": "92fff5c8",
   "metadata": {},
   "source": [
    "### Predictions"
   ]
  },
  {
   "cell_type": "markdown",
   "id": "a7b8ce60",
   "metadata": {},
   "source": [
    "Now we can move on to predictions. We will plot both posterior distribution (belief about the rate after seeing the data) and posterior-predictive distribution (belief about the data given the new rate we updated)"
   ]
  },
  {
   "cell_type": "code",
   "execution_count": 8,
   "id": "563ed9ca",
   "metadata": {},
   "outputs": [
    {
     "data": {
      "text/html": [
       "\n",
       "<style>\n",
       "    /* Turns off some styling */\n",
       "    progress {\n",
       "        /* gets rid of default border in Firefox and Opera. */\n",
       "        border: none;\n",
       "        /* Needs to be in here for Safari polyfill so background images work as expected. */\n",
       "        background-size: auto;\n",
       "    }\n",
       "    progress:not([value]), progress:not([value])::-webkit-progress-bar {\n",
       "        background: repeating-linear-gradient(45deg, #7e7e7e, #7e7e7e 10px, #5c5c5c 10px, #5c5c5c 20px);\n",
       "    }\n",
       "    .progress-bar-interrupted, .progress-bar-interrupted::-webkit-progress-bar {\n",
       "        background: #F44336;\n",
       "    }\n",
       "</style>\n"
      ],
      "text/plain": [
       "<IPython.core.display.HTML object>"
      ]
     },
     "metadata": {},
     "output_type": "display_data"
    },
    {
     "data": {
      "text/html": [
       "\n",
       "    <div>\n",
       "      <progress value='8000' class='' max='8000' style='width:300px; height:20px; vertical-align: middle;'></progress>\n",
       "      100.00% [8000/8000 00:00&lt;00:00]\n",
       "    </div>\n",
       "    "
      ],
      "text/plain": [
       "<IPython.core.display.HTML object>"
      ]
     },
     "metadata": {},
     "output_type": "display_data"
    },
    {
     "data": {
      "image/png": "[encoded data removed]",
      "text/plain": [
       "<Figure size 432x288 with 1 Axes>"
      ]
     },
     "metadata": {
      "needs_background": "light"
     },
     "output_type": "display_data"
    }
   ],
   "source": [
    "with model_complete_normal:\n",
    "    pred_complete_normal = pm.sample_posterior_predictive(trace_complete_normal)\n",
    "plt.hist(trace_complete_normal.posterior.lam.values.flatten(), density = True)\n",
    "plt.title(\"Posterior distribution with our prior Normal distribution\")\n",
    "plt.xlabel(\"Rate\")\n",
    "plt.ylabel(\"Probability density\")\n",
    "plt.show()"
   ]
  },
  {
   "cell_type": "code",
   "execution_count": 9,
   "id": "36df705e",
   "metadata": {},
   "outputs": [
    {
     "data": {
      "text/html": [
       "\n",
       "<style>\n",
       "    /* Turns off some styling */\n",
       "    progress {\n",
       "        /* gets rid of default border in Firefox and Opera. */\n",
       "        border: none;\n",
       "        /* Needs to be in here for Safari polyfill so background images work as expected. */\n",
       "        background-size: auto;\n",
       "    }\n",
       "    progress:not([value]), progress:not([value])::-webkit-progress-bar {\n",
       "        background: repeating-linear-gradient(45deg, #7e7e7e, #7e7e7e 10px, #5c5c5c 10px, #5c5c5c 20px);\n",
       "    }\n",
       "    .progress-bar-interrupted, .progress-bar-interrupted::-webkit-progress-bar {\n",
       "        background: #F44336;\n",
       "    }\n",
       "</style>\n"
      ],
      "text/plain": [
       "<IPython.core.display.HTML object>"
      ]
     },
     "metadata": {},
     "output_type": "display_data"
    },
    {
     "data": {
      "text/html": [
       "\n",
       "    <div>\n",
       "      <progress value='8000' class='' max='8000' style='width:300px; height:20px; vertical-align: middle;'></progress>\n",
       "      100.00% [8000/8000 00:00&lt;00:00]\n",
       "    </div>\n",
       "    "
      ],
      "text/plain": [
       "<IPython.core.display.HTML object>"
      ]
     },
     "metadata": {},
     "output_type": "display_data"
    },
    {
     "data": {
      "image/png": "[encoded data removed]",
      "text/plain": [
       "<Figure size 432x288 with 1 Axes>"
      ]
     },
     "metadata": {
      "needs_background": "light"
     },
     "output_type": "display_data"
    }
   ],
   "source": [
    "with model_complete_gamma:\n",
    "    pred_complete_gamma = pm.sample_posterior_predictive(trace_complete_gamma)\n",
    "plt.hist(trace_complete_gamma.posterior.lam.values.flatten(), density = True)\n",
    "plt.title(\"Posterior distribution with our prior Gamma distribution\")\n",
    "plt.xlabel(\"Rate\")\n",
    "plt.ylabel(\"Probability density\")\n",
    "plt.show()"
   ]
  },
  {
   "cell_type": "markdown",
   "id": "0a5f4493",
   "metadata": {},
   "source": [
    "Good news! The posterior distribution about the new rate is quite similar no matter what distribution in defining the prior. We can see that the rate, after learning from the data, will be normally distributed around 5.19 - 5.20 and stay in the range from 5.16 to 5.23\n",
    "\n",
    "This is a very confident result because we have a pretty narrow range of posterior belief!"
   ]
  },
  {
   "cell_type": "code",
   "execution_count": 10,
   "id": "f9e12ba9",
   "metadata": {},
   "outputs": [
    {
     "data": {
      "image/png": "[encoded data removed]",
      "text/plain": [
       "<Figure size 432x288 with 1 Axes>"
      ]
     },
     "metadata": {
      "needs_background": "light"
     },
     "output_type": "display_data"
    }
   ],
   "source": [
    "complete_normal = pred_complete_normal.posterior_predictive[\"counts\"].values.flatten()\n",
    "plt.hist(complete_normal, density = True, bins = 20)\n",
    "plt.title(\"Posterior-predictive distribution with our prior Normal distribution\")\n",
    "plt.xlabel(\"Kelp plant counts (Should be in the range 0 - 800)\")\n",
    "plt.ylabel(\"Probability density\")\n",
    "plt.show()"
   ]
  },
  {
   "cell_type": "code",
   "execution_count": 11,
   "id": "01f89cd6",
   "metadata": {},
   "outputs": [
    {
     "data": {
      "image/png": "[encoded data removed]",
      "text/plain": [
       "<Figure size 432x288 with 1 Axes>"
      ]
     },
     "metadata": {
      "needs_background": "light"
     },
     "output_type": "display_data"
    }
   ],
   "source": [
    "complete_gamma = pred_complete_gamma.posterior_predictive[\"counts\"].values.flatten()\n",
    "plt.hist(complete_gamma, density = True, bins = 20)\n",
    "plt.title(\"Posterior-predictive distribution with our prior Gamma distribution\")\n",
    "plt.xlabel(\"Kelp plant counts (Should be in the range 0 - 800)\")\n",
    "plt.ylabel(\"Probability density\")\n",
    "plt.show()"
   ]
  },
  {
   "cell_type": "markdown",
   "id": "38641c1f",
   "metadata": {},
   "source": [
    "Regardless of prior distribution, our posterior predictive distributions from both model are pretty similar. For missing cells, data is expected to follow a normal distribution centered around 180 and spread in the range of 120 - 240. This is not a large range, especially when we already looked at data and our prior belief (we can see values like 100 and 700 appear a few times)"
   ]
  },
  {
   "cell_type": "markdown",
   "id": "3a71a7e4",
   "metadata": {},
   "source": [
    "To predict values for each missing cell, we can sample 9 values from our posterior-predictive distribution and assign one to each missing cell. Because we have not accounted for spatial correlation yet, the order does not really matter. "
   ]
  },
  {
   "cell_type": "code",
   "execution_count": 12,
   "id": "58d22a10",
   "metadata": {},
   "outputs": [
    {
     "name": "stdout",
     "output_type": "stream",
     "text": [
      "Missing cell predictions - prior Normal distribution:  [182, 160, 199, 165, 172, 190, 208, 171, 169]\n",
      "Missing cell predictions - prior Gamma distribution:  [204, 170, 183, 171, 191, 171, 197, 187, 166]\n",
      "Variance - prior Normal:  182.9395625093872\n",
      "Variance - prior Gamma:  182.74293655111106\n"
     ]
    }
   ],
   "source": [
    "# generate 9 samples from the posterior predictive distribution\n",
    "\n",
    "lst_complete_normal = random.sample(list(complete_normal), 9)\n",
    "lst_complete_gamma = random.sample(list(complete_gamma), 9)\n",
    "print(\"Missing cell predictions - prior Normal distribution: \", lst_complete_normal)\n",
    "print(\"Missing cell predictions - prior Gamma distribution: \", lst_complete_gamma)\n",
    "print(\"Variance - prior Normal: \", np.var(list(complete_normal)))\n",
    "print(\"Variance - prior Gamma: \", np.var(list(complete_gamma)))\n"
   ]
  },
  {
   "cell_type": "markdown",
   "id": "c239c522",
   "metadata": {},
   "source": [
    "As expected, predictions for missing cells are likely to fall into around 170-180 value range. We also observe that variances in our posterior-predictive distribution for both models are also similar - around 182."
   ]
  },
  {
   "cell_type": "markdown",
   "id": "c44fd7df",
   "metadata": {},
   "source": [
    "## Partial pooling"
   ]
  },
  {
   "cell_type": "markdown",
   "id": "41c5a98c",
   "metadata": {},
   "source": [
    "### Prior"
   ]
  },
  {
   "cell_type": "markdown",
   "id": "ee8022f4",
   "metadata": {},
   "source": [
    "As stated above, in partial pooling approach, each grid cell follows a separate Poisson distribution which has its own rate. Therefore, besides priors, we also need to define the hyperpriors which better define the possible changes or variations in the rate for different grid cell's distribution. Similarly to the above approach, we consider two distributions over our rate - Normal and Gamma distribution. Now our task is to find the hyperprior to provide general information about our prior. For Normal prior, we need to find hyperprior for the mean and the standard deviation. I just use a normal distribution over the mean with the same mean as the one in models with complete pooling. For the standard deviation, I chose an exponential distribution to ensure non-negative values. Also, I choose the parameter in this exponential distribution to be big so that the noise is not highly likely in the part closer to 0, rather spread out, thus making the prior range wider to account for surprise."
   ]
  },
  {
   "cell_type": "code",
   "execution_count": 13,
   "id": "cb3f3753",
   "metadata": {},
   "outputs": [
    {
     "name": "stderr",
     "output_type": "stream",
     "text": [
      "Auto-assigning NUTS sampler...\n",
      "Initializing NUTS using jitter+adapt_diag...\n",
      "Multiprocess sampling (4 chains in 4 jobs)\n",
      "NUTS: [mu, sigma, lam]\n"
     ]
    },
    {
     "data": {
      "text/html": [
       "\n",
       "<style>\n",
       "    /* Turns off some styling */\n",
       "    progress {\n",
       "        /* gets rid of default border in Firefox and Opera. */\n",
       "        border: none;\n",
       "        /* Needs to be in here for Safari polyfill so background images work as expected. */\n",
       "        background-size: auto;\n",
       "    }\n",
       "    progress:not([value]), progress:not([value])::-webkit-progress-bar {\n",
       "        background: repeating-linear-gradient(45deg, #7e7e7e, #7e7e7e 10px, #5c5c5c 10px, #5c5c5c 20px);\n",
       "    }\n",
       "    .progress-bar-interrupted, .progress-bar-interrupted::-webkit-progress-bar {\n",
       "        background: #F44336;\n",
       "    }\n",
       "</style>\n"
      ],
      "text/plain": [
       "<IPython.core.display.HTML object>"
      ]
     },
     "metadata": {},
     "output_type": "display_data"
    },
    {
     "data": {
      "text/html": [
       "\n",
       "    <div>\n",
       "      <progress value='20000' class='' max='20000' style='width:300px; height:20px; vertical-align: middle;'></progress>\n",
       "      100.00% [20000/20000 00:12&lt;00:00 Sampling 4 chains, 0 divergences]\n",
       "    </div>\n",
       "    "
      ],
      "text/plain": [
       "<IPython.core.display.HTML object>"
      ]
     },
     "metadata": {},
     "output_type": "display_data"
    },
    {
     "name": "stderr",
     "output_type": "stream",
     "text": [
      "Sampling 4 chains for 3_000 tune and 2_000 draw iterations (12_000 + 8_000 draws total) took 45 seconds.\n"
     ]
    },
    {
     "data": {
      "image/png": "[encoded data removed]",
      "text/plain": [
       "<Figure size 432x288 with 1 Axes>"
      ]
     },
     "metadata": {
      "needs_background": "light"
     },
     "output_type": "display_data"
    }
   ],
   "source": [
    "with pm.Model() as model_partial_normal:\n",
    "    \n",
    "    # Hyperpriors\n",
    "    mu = pm.Normal('mu', mu=np.log(350), sigma=0.1)\n",
    "    sigma = pm.Exponential('sigma', lam=30)\n",
    "    \n",
    "    # Priors \n",
    "    lam = pm.Normal('lam', mu=mu, sigma=sigma, shape = len(dataset.data))\n",
    "    counts = pm.Poisson('counts', pm.math.exp(lam[dataset.cell]), observed=dataset.data)\n",
    "    \n",
    "    trace_partial_normal = pm.sample(2000, tune=3000)\n",
    "    samples_partial_normal = pm.sample_prior_predictive(10000)\n",
    "plt.hist(samples_partial_normal.prior_predictive[\"counts\"].values.flatten())\n",
    "plt.title(\"Prior-predictive distribution with our prior Normal distribution\")\n",
    "plt.xlabel(\"Probability density\")\n",
    "plt.ylabel(\"Kelp plant counts (Should be in the range 0 - 800)\")\n",
    "plt.show()"
   ]
  },
  {
   "cell_type": "code",
   "execution_count": 14,
   "id": "785626aa",
   "metadata": {},
   "outputs": [
    {
     "name": "stdout",
     "output_type": "stream",
     "text": [
      "The number of parameters with R_hat = 1.0:  93\n"
     ]
    },
    {
     "data": {
      "text/html": [
       "<div>\n",
       "<style scoped>\n",
       "    .dataframe tbody tr th:only-of-type {\n",
       "        vertical-align: middle;\n",
       "    }\n",
       "\n",
       "    .dataframe tbody tr th {\n",
       "        vertical-align: top;\n",
       "    }\n",
       "\n",
       "    .dataframe thead th {\n",
       "        text-align: right;\n",
       "    }\n",
       "</style>\n",
       "<table border=\"1\" class=\"dataframe\">\n",
       "  <thead>\n",
       "    <tr style=\"text-align: right;\">\n",
       "      <th></th>\n",
       "      <th>mean</th>\n",
       "      <th>sd</th>\n",
       "      <th>hdi_3%</th>\n",
       "      <th>hdi_97%</th>\n",
       "      <th>mcse_mean</th>\n",
       "      <th>mcse_sd</th>\n",
       "      <th>ess_bulk</th>\n",
       "      <th>ess_tail</th>\n",
       "      <th>r_hat</th>\n",
       "    </tr>\n",
       "  </thead>\n",
       "  <tbody>\n",
       "    <tr>\n",
       "      <th>mu</th>\n",
       "      <td>5.266</td>\n",
       "      <td>0.065</td>\n",
       "      <td>5.149</td>\n",
       "      <td>5.393</td>\n",
       "      <td>0.001</td>\n",
       "      <td>0.000</td>\n",
       "      <td>11642.0</td>\n",
       "      <td>6201.0</td>\n",
       "      <td>1.0</td>\n",
       "    </tr>\n",
       "    <tr>\n",
       "      <th>lam[0]</th>\n",
       "      <td>4.625</td>\n",
       "      <td>0.098</td>\n",
       "      <td>4.442</td>\n",
       "      <td>4.808</td>\n",
       "      <td>0.001</td>\n",
       "      <td>0.001</td>\n",
       "      <td>12037.0</td>\n",
       "      <td>5926.0</td>\n",
       "      <td>1.0</td>\n",
       "    </tr>\n",
       "    <tr>\n",
       "      <th>lam[1]</th>\n",
       "      <td>4.535</td>\n",
       "      <td>0.100</td>\n",
       "      <td>4.348</td>\n",
       "      <td>4.722</td>\n",
       "      <td>0.001</td>\n",
       "      <td>0.001</td>\n",
       "      <td>11958.0</td>\n",
       "      <td>5703.0</td>\n",
       "      <td>1.0</td>\n",
       "    </tr>\n",
       "    <tr>\n",
       "      <th>lam[2]</th>\n",
       "      <td>6.304</td>\n",
       "      <td>0.043</td>\n",
       "      <td>6.223</td>\n",
       "      <td>6.384</td>\n",
       "      <td>0.000</td>\n",
       "      <td>0.000</td>\n",
       "      <td>11179.0</td>\n",
       "      <td>5883.0</td>\n",
       "      <td>1.0</td>\n",
       "    </tr>\n",
       "    <tr>\n",
       "      <th>lam[3]</th>\n",
       "      <td>6.104</td>\n",
       "      <td>0.047</td>\n",
       "      <td>6.014</td>\n",
       "      <td>6.191</td>\n",
       "      <td>0.000</td>\n",
       "      <td>0.000</td>\n",
       "      <td>15932.0</td>\n",
       "      <td>5697.0</td>\n",
       "      <td>1.0</td>\n",
       "    </tr>\n",
       "    <tr>\n",
       "      <th>...</th>\n",
       "      <td>...</td>\n",
       "      <td>...</td>\n",
       "      <td>...</td>\n",
       "      <td>...</td>\n",
       "      <td>...</td>\n",
       "      <td>...</td>\n",
       "      <td>...</td>\n",
       "      <td>...</td>\n",
       "      <td>...</td>\n",
       "    </tr>\n",
       "    <tr>\n",
       "      <th>lam[87]</th>\n",
       "      <td>4.481</td>\n",
       "      <td>0.105</td>\n",
       "      <td>4.283</td>\n",
       "      <td>4.674</td>\n",
       "      <td>0.001</td>\n",
       "      <td>0.001</td>\n",
       "      <td>14447.0</td>\n",
       "      <td>5473.0</td>\n",
       "      <td>1.0</td>\n",
       "    </tr>\n",
       "    <tr>\n",
       "      <th>lam[88]</th>\n",
       "      <td>4.031</td>\n",
       "      <td>0.131</td>\n",
       "      <td>3.787</td>\n",
       "      <td>4.275</td>\n",
       "      <td>0.001</td>\n",
       "      <td>0.001</td>\n",
       "      <td>14173.0</td>\n",
       "      <td>5672.0</td>\n",
       "      <td>1.0</td>\n",
       "    </tr>\n",
       "    <tr>\n",
       "      <th>lam[89]</th>\n",
       "      <td>3.842</td>\n",
       "      <td>0.146</td>\n",
       "      <td>3.558</td>\n",
       "      <td>4.109</td>\n",
       "      <td>0.001</td>\n",
       "      <td>0.001</td>\n",
       "      <td>14069.0</td>\n",
       "      <td>6126.0</td>\n",
       "      <td>1.0</td>\n",
       "    </tr>\n",
       "    <tr>\n",
       "      <th>lam[90]</th>\n",
       "      <td>4.625</td>\n",
       "      <td>0.098</td>\n",
       "      <td>4.446</td>\n",
       "      <td>4.809</td>\n",
       "      <td>0.001</td>\n",
       "      <td>0.001</td>\n",
       "      <td>14166.0</td>\n",
       "      <td>6090.0</td>\n",
       "      <td>1.0</td>\n",
       "    </tr>\n",
       "    <tr>\n",
       "      <th>sigma</th>\n",
       "      <td>0.672</td>\n",
       "      <td>0.050</td>\n",
       "      <td>0.584</td>\n",
       "      <td>0.769</td>\n",
       "      <td>0.000</td>\n",
       "      <td>0.000</td>\n",
       "      <td>10605.0</td>\n",
       "      <td>6849.0</td>\n",
       "      <td>1.0</td>\n",
       "    </tr>\n",
       "  </tbody>\n",
       "</table>\n",
       "<p>93 rows × 9 columns</p>\n",
       "</div>"
      ],
      "text/plain": [
       "          mean     sd  hdi_3%  hdi_97%  mcse_mean  mcse_sd  ess_bulk  \\\n",
       "mu       5.266  0.065   5.149    5.393      0.001    0.000   11642.0   \n",
       "lam[0]   4.625  0.098   4.442    4.808      0.001    0.001   12037.0   \n",
       "lam[1]   4.535  0.100   4.348    4.722      0.001    0.001   11958.0   \n",
       "lam[2]   6.304  0.043   6.223    6.384      0.000    0.000   11179.0   \n",
       "lam[3]   6.104  0.047   6.014    6.191      0.000    0.000   15932.0   \n",
       "...        ...    ...     ...      ...        ...      ...       ...   \n",
       "lam[87]  4.481  0.105   4.283    4.674      0.001    0.001   14447.0   \n",
       "lam[88]  4.031  0.131   3.787    4.275      0.001    0.001   14173.0   \n",
       "lam[89]  3.842  0.146   3.558    4.109      0.001    0.001   14069.0   \n",
       "lam[90]  4.625  0.098   4.446    4.809      0.001    0.001   14166.0   \n",
       "sigma    0.672  0.050   0.584    0.769      0.000    0.000   10605.0   \n",
       "\n",
       "         ess_tail  r_hat  \n",
       "mu         6201.0    1.0  \n",
       "lam[0]     5926.0    1.0  \n",
       "lam[1]     5703.0    1.0  \n",
       "lam[2]     5883.0    1.0  \n",
       "lam[3]     5697.0    1.0  \n",
       "...           ...    ...  \n",
       "lam[87]    5473.0    1.0  \n",
       "lam[88]    5672.0    1.0  \n",
       "lam[89]    6126.0    1.0  \n",
       "lam[90]    6090.0    1.0  \n",
       "sigma      6849.0    1.0  \n",
       "\n",
       "[93 rows x 9 columns]"
      ]
     },
     "execution_count": 14,
     "metadata": {},
     "output_type": "execute_result"
    }
   ],
   "source": [
    "holder = az.summary(trace_partial_normal)\n",
    "\n",
    "# because there are so many parameters, i quick-checked if all have 1.0 R_hat\n",
    "print(\"The number of parameters with R_hat = 1.0: \", np.sum(holder.r_hat == 1.0))\n",
    "holder"
   ]
  },
  {
   "cell_type": "markdown",
   "id": "8d8ddce9",
   "metadata": {},
   "source": [
    "The model seems good! Diagnosis statistic has positive results. Also, from prior predictive distribution, we can see that data stay in the range 0 - 800. It's hard to spread the distribution out without not going over the pre-defined bounds. Therefore, I respect the bound constraint than a perfect prior. "
   ]
  },
  {
   "cell_type": "code",
   "execution_count": 15,
   "id": "1795f42f",
   "metadata": {},
   "outputs": [
    {
     "name": "stderr",
     "output_type": "stream",
     "text": [
      "Auto-assigning NUTS sampler...\n",
      "Initializing NUTS using jitter+adapt_diag...\n",
      "Multiprocess sampling (4 chains in 4 jobs)\n",
      "NUTS: [mu, sigma, lam]\n"
     ]
    },
    {
     "data": {
      "text/html": [
       "\n",
       "<style>\n",
       "    /* Turns off some styling */\n",
       "    progress {\n",
       "        /* gets rid of default border in Firefox and Opera. */\n",
       "        border: none;\n",
       "        /* Needs to be in here for Safari polyfill so background images work as expected. */\n",
       "        background-size: auto;\n",
       "    }\n",
       "    progress:not([value]), progress:not([value])::-webkit-progress-bar {\n",
       "        background: repeating-linear-gradient(45deg, #7e7e7e, #7e7e7e 10px, #5c5c5c 10px, #5c5c5c 20px);\n",
       "    }\n",
       "    .progress-bar-interrupted, .progress-bar-interrupted::-webkit-progress-bar {\n",
       "        background: #F44336;\n",
       "    }\n",
       "</style>\n"
      ],
      "text/plain": [
       "<IPython.core.display.HTML object>"
      ]
     },
     "metadata": {},
     "output_type": "display_data"
    },
    {
     "data": {
      "text/html": [
       "\n",
       "    <div>\n",
       "      <progress value='20000' class='' max='20000' style='width:300px; height:20px; vertical-align: middle;'></progress>\n",
       "      100.00% [20000/20000 00:16&lt;00:00 Sampling 4 chains, 0 divergences]\n",
       "    </div>\n",
       "    "
      ],
      "text/plain": [
       "<IPython.core.display.HTML object>"
      ]
     },
     "metadata": {},
     "output_type": "display_data"
    },
    {
     "name": "stderr",
     "output_type": "stream",
     "text": [
      "Sampling 4 chains for 3_000 tune and 2_000 draw iterations (12_000 + 8_000 draws total) took 48 seconds.\n"
     ]
    },
    {
     "data": {
      "image/png": "[encoded data removed]",
      "text/plain": [
       "<Figure size 432x288 with 1 Axes>"
      ]
     },
     "metadata": {
      "needs_background": "light"
     },
     "output_type": "display_data"
    }
   ],
   "source": [
    "with pm.Model() as model_partial_gamma:\n",
    "    \n",
    "    # Hyperpriors\n",
    "    alpha = pm.Uniform('mu', lower=25, upper=33)\n",
    "    beta = pm.Normal('sigma', mu=10, sigma=0.1)\n",
    "    \n",
    "    # Priors \n",
    "    lam = pm.Gamma('lam', alpha=alpha, beta=beta, shape = len(dataset.data))\n",
    "    counts = pm.Poisson('counts', pm.math.exp(lam[dataset.cell]), observed=dataset.data)\n",
    "    \n",
    "    trace_partial_gamma = pm.sample(2000, tune=3000)\n",
    "    samples_partial_gamma = pm.sample_prior_predictive(10000)\n",
    "    \n",
    "plt.hist(samples_partial_gamma.prior_predictive[\"counts\"].values.flatten())\n",
    "plt.title(\"Prior-predictive distribution with our prior Gamma distribution\")\n",
    "plt.xlabel(\"Kelp plant counts (Should be in the range 0 - 800)\")\n",
    "plt.ylabel(\"Probability density\")\n",
    "plt.show()"
   ]
  },
  {
   "cell_type": "code",
   "execution_count": 16,
   "id": "fd989919",
   "metadata": {},
   "outputs": [
    {
     "name": "stdout",
     "output_type": "stream",
     "text": [
      "The number of parameters with R_hat = 1.0:  93\n"
     ]
    },
    {
     "data": {
      "text/html": [
       "<div>\n",
       "<style scoped>\n",
       "    .dataframe tbody tr th:only-of-type {\n",
       "        vertical-align: middle;\n",
       "    }\n",
       "\n",
       "    .dataframe tbody tr th {\n",
       "        vertical-align: top;\n",
       "    }\n",
       "\n",
       "    .dataframe thead th {\n",
       "        text-align: right;\n",
       "    }\n",
       "</style>\n",
       "<table border=\"1\" class=\"dataframe\">\n",
       "  <thead>\n",
       "    <tr style=\"text-align: right;\">\n",
       "      <th></th>\n",
       "      <th>mean</th>\n",
       "      <th>sd</th>\n",
       "      <th>hdi_3%</th>\n",
       "      <th>hdi_97%</th>\n",
       "      <th>mcse_mean</th>\n",
       "      <th>mcse_sd</th>\n",
       "      <th>ess_bulk</th>\n",
       "      <th>ess_tail</th>\n",
       "      <th>r_hat</th>\n",
       "    </tr>\n",
       "  </thead>\n",
       "  <tbody>\n",
       "    <tr>\n",
       "      <th>sigma</th>\n",
       "      <td>8.879</td>\n",
       "      <td>0.086</td>\n",
       "      <td>8.718</td>\n",
       "      <td>9.041</td>\n",
       "      <td>0.001</td>\n",
       "      <td>0.000</td>\n",
       "      <td>14913.0</td>\n",
       "      <td>5200.0</td>\n",
       "      <td>1.0</td>\n",
       "    </tr>\n",
       "    <tr>\n",
       "      <th>mu</th>\n",
       "      <td>32.963</td>\n",
       "      <td>0.037</td>\n",
       "      <td>32.895</td>\n",
       "      <td>33.000</td>\n",
       "      <td>0.000</td>\n",
       "      <td>0.000</td>\n",
       "      <td>9356.0</td>\n",
       "      <td>4199.0</td>\n",
       "      <td>1.0</td>\n",
       "    </tr>\n",
       "    <tr>\n",
       "      <th>lam[0]</th>\n",
       "      <td>4.590</td>\n",
       "      <td>0.099</td>\n",
       "      <td>4.404</td>\n",
       "      <td>4.780</td>\n",
       "      <td>0.001</td>\n",
       "      <td>0.001</td>\n",
       "      <td>12125.0</td>\n",
       "      <td>5640.0</td>\n",
       "      <td>1.0</td>\n",
       "    </tr>\n",
       "    <tr>\n",
       "      <th>lam[1]</th>\n",
       "      <td>4.498</td>\n",
       "      <td>0.105</td>\n",
       "      <td>4.302</td>\n",
       "      <td>4.690</td>\n",
       "      <td>0.001</td>\n",
       "      <td>0.001</td>\n",
       "      <td>11638.0</td>\n",
       "      <td>5561.0</td>\n",
       "      <td>1.0</td>\n",
       "    </tr>\n",
       "    <tr>\n",
       "      <th>lam[2]</th>\n",
       "      <td>6.302</td>\n",
       "      <td>0.043</td>\n",
       "      <td>6.219</td>\n",
       "      <td>6.380</td>\n",
       "      <td>0.000</td>\n",
       "      <td>0.000</td>\n",
       "      <td>12408.0</td>\n",
       "      <td>6083.0</td>\n",
       "      <td>1.0</td>\n",
       "    </tr>\n",
       "    <tr>\n",
       "      <th>...</th>\n",
       "      <td>...</td>\n",
       "      <td>...</td>\n",
       "      <td>...</td>\n",
       "      <td>...</td>\n",
       "      <td>...</td>\n",
       "      <td>...</td>\n",
       "      <td>...</td>\n",
       "      <td>...</td>\n",
       "      <td>...</td>\n",
       "    </tr>\n",
       "    <tr>\n",
       "      <th>lam[86]</th>\n",
       "      <td>4.205</td>\n",
       "      <td>0.120</td>\n",
       "      <td>3.976</td>\n",
       "      <td>4.428</td>\n",
       "      <td>0.001</td>\n",
       "      <td>0.001</td>\n",
       "      <td>14381.0</td>\n",
       "      <td>5746.0</td>\n",
       "      <td>1.0</td>\n",
       "    </tr>\n",
       "    <tr>\n",
       "      <th>lam[87]</th>\n",
       "      <td>4.441</td>\n",
       "      <td>0.107</td>\n",
       "      <td>4.245</td>\n",
       "      <td>4.646</td>\n",
       "      <td>0.001</td>\n",
       "      <td>0.001</td>\n",
       "      <td>11246.0</td>\n",
       "      <td>5766.0</td>\n",
       "      <td>1.0</td>\n",
       "    </tr>\n",
       "    <tr>\n",
       "      <th>lam[88]</th>\n",
       "      <td>3.967</td>\n",
       "      <td>0.136</td>\n",
       "      <td>3.714</td>\n",
       "      <td>4.223</td>\n",
       "      <td>0.001</td>\n",
       "      <td>0.001</td>\n",
       "      <td>11784.0</td>\n",
       "      <td>6086.0</td>\n",
       "      <td>1.0</td>\n",
       "    </tr>\n",
       "    <tr>\n",
       "      <th>lam[89]</th>\n",
       "      <td>3.765</td>\n",
       "      <td>0.149</td>\n",
       "      <td>3.474</td>\n",
       "      <td>4.037</td>\n",
       "      <td>0.001</td>\n",
       "      <td>0.001</td>\n",
       "      <td>12955.0</td>\n",
       "      <td>5639.0</td>\n",
       "      <td>1.0</td>\n",
       "    </tr>\n",
       "    <tr>\n",
       "      <th>lam[90]</th>\n",
       "      <td>4.593</td>\n",
       "      <td>0.100</td>\n",
       "      <td>4.404</td>\n",
       "      <td>4.772</td>\n",
       "      <td>0.001</td>\n",
       "      <td>0.001</td>\n",
       "      <td>14802.0</td>\n",
       "      <td>6136.0</td>\n",
       "      <td>1.0</td>\n",
       "    </tr>\n",
       "  </tbody>\n",
       "</table>\n",
       "<p>93 rows × 9 columns</p>\n",
       "</div>"
      ],
      "text/plain": [
       "           mean     sd  hdi_3%  hdi_97%  mcse_mean  mcse_sd  ess_bulk  \\\n",
       "sigma     8.879  0.086   8.718    9.041      0.001    0.000   14913.0   \n",
       "mu       32.963  0.037  32.895   33.000      0.000    0.000    9356.0   \n",
       "lam[0]    4.590  0.099   4.404    4.780      0.001    0.001   12125.0   \n",
       "lam[1]    4.498  0.105   4.302    4.690      0.001    0.001   11638.0   \n",
       "lam[2]    6.302  0.043   6.219    6.380      0.000    0.000   12408.0   \n",
       "...         ...    ...     ...      ...        ...      ...       ...   \n",
       "lam[86]   4.205  0.120   3.976    4.428      0.001    0.001   14381.0   \n",
       "lam[87]   4.441  0.107   4.245    4.646      0.001    0.001   11246.0   \n",
       "lam[88]   3.967  0.136   3.714    4.223      0.001    0.001   11784.0   \n",
       "lam[89]   3.765  0.149   3.474    4.037      0.001    0.001   12955.0   \n",
       "lam[90]   4.593  0.100   4.404    4.772      0.001    0.001   14802.0   \n",
       "\n",
       "         ess_tail  r_hat  \n",
       "sigma      5200.0    1.0  \n",
       "mu         4199.0    1.0  \n",
       "lam[0]     5640.0    1.0  \n",
       "lam[1]     5561.0    1.0  \n",
       "lam[2]     6083.0    1.0  \n",
       "...           ...    ...  \n",
       "lam[86]    5746.0    1.0  \n",
       "lam[87]    5766.0    1.0  \n",
       "lam[88]    6086.0    1.0  \n",
       "lam[89]    5639.0    1.0  \n",
       "lam[90]    6136.0    1.0  \n",
       "\n",
       "[93 rows x 9 columns]"
      ]
     },
     "execution_count": 16,
     "metadata": {},
     "output_type": "execute_result"
    }
   ],
   "source": [
    "diagnosis = az.summary(trace_partial_gamma)\n",
    "\n",
    "# because there are so many parameters, i quick-checked if all have 1.0 R_hat\n",
    "print(\"The number of parameters with R_hat = 1.0: \", np.sum(diagnosis.r_hat == 1.0))\n",
    "diagnosis"
   ]
  },
  {
   "cell_type": "markdown",
   "id": "d28bf231",
   "metadata": {},
   "source": [
    "As expected, with Gamma prior distribution, prior-predictive distribution assigns much more probability density to the part closer to 0. However, results look positive, which makes us assured to move on. "
   ]
  },
  {
   "cell_type": "markdown",
   "id": "637e4395",
   "metadata": {},
   "source": [
    "### Prediction"
   ]
  },
  {
   "cell_type": "code",
   "execution_count": 17,
   "id": "805a9971",
   "metadata": {},
   "outputs": [
    {
     "data": {
      "image/png": "[encoded data removed]",
      "text/plain": [
       "<Figure size 432x288 with 1 Axes>"
      ]
     },
     "metadata": {
      "needs_background": "light"
     },
     "output_type": "display_data"
    }
   ],
   "source": [
    "plt.hist(trace_partial_normal.posterior['lam'].values.flatten(), density = True, bins = 20)\n",
    "plt.title(\"Posterior distribution over the rate with Normal prior distribution\")\n",
    "plt.xlabel(\"Rate\")\n",
    "plt.ylabel(\"Probability density\")\n",
    "plt.show()"
   ]
  },
  {
   "cell_type": "code",
   "execution_count": 18,
   "id": "43b953b2",
   "metadata": {},
   "outputs": [
    {
     "data": {
      "image/png": "[encoded data removed]",
      "text/plain": [
       "<Figure size 432x288 with 1 Axes>"
      ]
     },
     "metadata": {
      "needs_background": "light"
     },
     "output_type": "display_data"
    }
   ],
   "source": [
    "plt.hist(trace_partial_normal.posterior['mu'].values.flatten(), density = True, bins = 20)\n",
    "plt.title(\"Posterior distribution over mu with Normal prior distribution\")\n",
    "plt.xlabel(\"Mu\")\n",
    "plt.ylabel(\"Probability density\")\n",
    "plt.show()"
   ]
  },
  {
   "cell_type": "code",
   "execution_count": 19,
   "id": "71ad9f77",
   "metadata": {
    "scrolled": true
   },
   "outputs": [
    {
     "data": {
      "image/png": "[encoded data removed]",
      "text/plain": [
       "<Figure size 432x288 with 1 Axes>"
      ]
     },
     "metadata": {
      "needs_background": "light"
     },
     "output_type": "display_data"
    }
   ],
   "source": [
    "plt.hist(trace_partial_normal.posterior['sigma'].values.flatten(), density = True, bins = 20)\n",
    "plt.title(\"Posterior distribution over sigma with Normal prior distribution\")\n",
    "plt.xlabel(\"Sigma\")\n",
    "plt.ylabel(\"Probability density\")\n",
    "plt.show()"
   ]
  },
  {
   "cell_type": "markdown",
   "id": "f8de2331",
   "metadata": {},
   "source": [
    "With Normal distribution in the prior, the rate posterior distribution seems to have more spread out than the rate posterior distribution in complete pooling approach. Here, we can see that the distribution is even multimodal and fluctions in the distributions imply that the model can easily account for sudden changes or wide range in possible values of kelp plants. If the rate in complete pooling approach has little variance, only ranging from 5.1 to 5.6, here, the rate can accounts from 3 to more than 6.5, signaling that it is sensitive to variations."
   ]
  },
  {
   "cell_type": "code",
   "execution_count": 20,
   "id": "54fcb478",
   "metadata": {},
   "outputs": [
    {
     "data": {
      "image/png": "[encoded data removed]",
      "text/plain": [
       "<Figure size 432x288 with 1 Axes>"
      ]
     },
     "metadata": {
      "needs_background": "light"
     },
     "output_type": "display_data"
    }
   ],
   "source": [
    "plt.hist(trace_partial_gamma.posterior['lam'].values.flatten(), density = True, bins = 20)\n",
    "plt.title(\"Posterior distribution over the rate with Gamma prior distribution\")\n",
    "plt.xlabel(\"Rate\")\n",
    "plt.ylabel(\"Probability density\")\n",
    "plt.show()"
   ]
  },
  {
   "cell_type": "code",
   "execution_count": 21,
   "id": "48451bf3",
   "metadata": {},
   "outputs": [
    {
     "data": {
      "image/png": "[encoded data removed]",
      "text/plain": [
       "<Figure size 432x288 with 1 Axes>"
      ]
     },
     "metadata": {
      "needs_background": "light"
     },
     "output_type": "display_data"
    }
   ],
   "source": [
    "plt.hist(trace_partial_gamma.posterior['mu'].values.flatten(), density = True, bins = 20)\n",
    "plt.title(\"Posterior distribution over alpha with Gamma prior distribution\")\n",
    "plt.xlabel(\"Alpha\")\n",
    "plt.ylabel(\"Probability density\")\n",
    "plt.show()"
   ]
  },
  {
   "cell_type": "code",
   "execution_count": 22,
   "id": "6985667f",
   "metadata": {},
   "outputs": [
    {
     "data": {
      "image/png": "[encoded data removed]",
      "text/plain": [
       "<Figure size 432x288 with 1 Axes>"
      ]
     },
     "metadata": {
      "needs_background": "light"
     },
     "output_type": "display_data"
    }
   ],
   "source": [
    "plt.hist(trace_partial_gamma.posterior['sigma'].values.flatten(), density = True, bins = 20)\n",
    "plt.title(\"Posterior distribution over beta with Gamma prior distribution\")\n",
    "plt.xlabel(\"Beta\")\n",
    "plt.ylabel(\"Probability density\")\n",
    "plt.show()"
   ]
  },
  {
   "cell_type": "markdown",
   "id": "9fcad46a",
   "metadata": {},
   "source": [
    "There's one interesting part in this posterior distribution given a prior Gamma distribution. The hyperparameter alpha seems very likely to be closer to 33 rather than the other in this prior unifom distribution. Besides, it seems like there's not much difference compared to the other model with prior Normal distribution"
   ]
  },
  {
   "cell_type": "code",
   "execution_count": 23,
   "id": "2f56bfd4",
   "metadata": {},
   "outputs": [
    {
     "data": {
      "text/html": [
       "\n",
       "<style>\n",
       "    /* Turns off some styling */\n",
       "    progress {\n",
       "        /* gets rid of default border in Firefox and Opera. */\n",
       "        border: none;\n",
       "        /* Needs to be in here for Safari polyfill so background images work as expected. */\n",
       "        background-size: auto;\n",
       "    }\n",
       "    progress:not([value]), progress:not([value])::-webkit-progress-bar {\n",
       "        background: repeating-linear-gradient(45deg, #7e7e7e, #7e7e7e 10px, #5c5c5c 10px, #5c5c5c 20px);\n",
       "    }\n",
       "    .progress-bar-interrupted, .progress-bar-interrupted::-webkit-progress-bar {\n",
       "        background: #F44336;\n",
       "    }\n",
       "</style>\n"
      ],
      "text/plain": [
       "<IPython.core.display.HTML object>"
      ]
     },
     "metadata": {},
     "output_type": "display_data"
    },
    {
     "data": {
      "text/html": [
       "\n",
       "    <div>\n",
       "      <progress value='8000' class='' max='8000' style='width:300px; height:20px; vertical-align: middle;'></progress>\n",
       "      100.00% [8000/8000 00:00&lt;00:00]\n",
       "    </div>\n",
       "    "
      ],
      "text/plain": [
       "<IPython.core.display.HTML object>"
      ]
     },
     "metadata": {},
     "output_type": "display_data"
    },
    {
     "data": {
      "image/png": "[encoded data removed]",
      "text/plain": [
       "<Figure size 432x288 with 1 Axes>"
      ]
     },
     "metadata": {
      "needs_background": "light"
     },
     "output_type": "display_data"
    }
   ],
   "source": [
    "with model_partial_normal:\n",
    "    pred_partial_normal = pm.sample_posterior_predictive(trace_partial_normal)\n",
    "partial_normal = pred_partial_normal.posterior_predictive[\"counts\"].values.flatten()\n",
    "plt.hist(partial_normal, density = True, bins = 20)\n",
    "plt.title(\"Posterior-predictive distribution with Normal prior distribution\")\n",
    "plt.xlabel(\"Kelp plants\")\n",
    "plt.ylabel(\"Probability density\")\n",
    "plt.show()"
   ]
  },
  {
   "cell_type": "code",
   "execution_count": 24,
   "id": "736c4d8f",
   "metadata": {},
   "outputs": [
    {
     "data": {
      "text/html": [
       "\n",
       "<style>\n",
       "    /* Turns off some styling */\n",
       "    progress {\n",
       "        /* gets rid of default border in Firefox and Opera. */\n",
       "        border: none;\n",
       "        /* Needs to be in here for Safari polyfill so background images work as expected. */\n",
       "        background-size: auto;\n",
       "    }\n",
       "    progress:not([value]), progress:not([value])::-webkit-progress-bar {\n",
       "        background: repeating-linear-gradient(45deg, #7e7e7e, #7e7e7e 10px, #5c5c5c 10px, #5c5c5c 20px);\n",
       "    }\n",
       "    .progress-bar-interrupted, .progress-bar-interrupted::-webkit-progress-bar {\n",
       "        background: #F44336;\n",
       "    }\n",
       "</style>\n"
      ],
      "text/plain": [
       "<IPython.core.display.HTML object>"
      ]
     },
     "metadata": {},
     "output_type": "display_data"
    },
    {
     "data": {
      "text/html": [
       "\n",
       "    <div>\n",
       "      <progress value='8000' class='' max='8000' style='width:300px; height:20px; vertical-align: middle;'></progress>\n",
       "      100.00% [8000/8000 00:00&lt;00:00]\n",
       "    </div>\n",
       "    "
      ],
      "text/plain": [
       "<IPython.core.display.HTML object>"
      ]
     },
     "metadata": {},
     "output_type": "display_data"
    },
    {
     "data": {
      "image/png": "[encoded data removed]",
      "text/plain": [
       "<Figure size 432x288 with 1 Axes>"
      ]
     },
     "metadata": {
      "needs_background": "light"
     },
     "output_type": "display_data"
    }
   ],
   "source": [
    "with model_partial_gamma:\n",
    "    pred_partial_gamma = pm.sample_posterior_predictive(trace_partial_normal)\n",
    "partial_gamma = pred_partial_gamma.posterior_predictive[\"counts\"].values.flatten()\n",
    "plt.hist(partial_gamma, density = True, bins = 20)\n",
    "plt.title(\"Posterior-predictive distribution with Gamma prior distribution\")\n",
    "plt.xlabel(\"Kelp plants\")\n",
    "plt.ylabel(\"Probability density\")\n",
    "plt.show()"
   ]
  },
  {
   "cell_type": "markdown",
   "id": "8bf26ace",
   "metadata": {},
   "source": [
    "When it comes to posterior-predictive distribution, the prior distribution once again does not matter. However, there's a striking difference between two approaches - complete pooling and partial pooling. Recall in complete pooling approach, the posterior predictive distribution is just a normal distribution with small standard deviation, just ranging from 120 to 250. Here, our distribution is not really normal (no symmetry observed) and ranges from 0 to more than 700. "
   ]
  },
  {
   "cell_type": "code",
   "execution_count": 25,
   "id": "3f46061b",
   "metadata": {},
   "outputs": [
    {
     "name": "stdout",
     "output_type": "stream",
     "text": [
      "Missing cell predictions - prior Normal distribution:  [275, 118, 203, 78, 68, 99, 148, 70, 620]\n",
      "Missing cell predictions - prior Gamma distribution:  [318, 59, 175, 401, 55, 104, 69, 72, 199]\n",
      "Variance - prior Normal:  17040.16087887863\n",
      "Variance - prior Gamma:  17029.89868691088\n"
     ]
    }
   ],
   "source": [
    "lst_partial_normal = random.sample(list(partial_normal), 9)\n",
    "lst_partial_gamma = random.sample(list(partial_gamma), 9)\n",
    "\n",
    "print(\"Missing cell predictions - prior Normal distribution: \", lst_partial_normal)\n",
    "print(\"Missing cell predictions - prior Gamma distribution: \", lst_partial_gamma)\n",
    "print(\"Variance - prior Normal: \", np.var(list(partial_normal)))\n",
    "print(\"Variance - prior Gamma: \", np.var(list(partial_gamma)))"
   ]
  },
  {
   "cell_type": "markdown",
   "id": "1b4a6514",
   "metadata": {},
   "source": [
    "When we sample 9 values from the posterior predictive distribution, the values seem to be more all over the place than the other approach - ranging from 50 to even 500. I am pretty sure when we run more times, differences can be even bigger because 9 is a small sample size. Also, variance in both posterior predictive distributions in this approach is so big - slightly more than 17000 compared to only around 180 in complete pooling."
   ]
  },
  {
   "cell_type": "markdown",
   "id": "fede7f52",
   "metadata": {},
   "source": [
    "## Comparison"
   ]
  },
  {
   "cell_type": "markdown",
   "id": "81afb3a0",
   "metadata": {},
   "source": [
    "The biggest takeaway from this report is complete pooling will produce predictions with small variance, which means large confidence. However, this confidence underlies an inherent confidence bias because it can be wrong. Rather, when we assume that each grid cell has its own distribution and the rate of the Poisson distribution is constantly updated along the way, this informs the predictions much better with more contextual data. Therefore, the big variance in partial pooling predictions here can fixes over divergence problem, thus bringing more useful or valid predictions."
   ]
  }
 ],
 "metadata": {
  "kernelspec": {
   "display_name": "Python 3",
   "language": "python",
   "name": "python3"
  },
  "language_info": {
   "codemirror_mode": {
    "name": "ipython",
    "version": 3
   },
   "file_extension": ".py",
   "mimetype": "text/x-python",
   "name": "python",
   "nbconvert_exporter": "python",
   "pygments_lexer": "ipython3",
   "version": "3.8.3"
  }
 },
 "nbformat": 4,
 "nbformat_minor": 5
}
